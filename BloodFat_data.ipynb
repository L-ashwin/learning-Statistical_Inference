{
 "cells": [
  {
   "cell_type": "markdown",
   "metadata": {},
   "source": [
    "# Statistical Inference 01"
   ]
  },
  {
   "cell_type": "code",
   "execution_count": 36,
   "metadata": {},
   "outputs": [],
   "source": [
    "data <- matrix( scan( 'bloodfat.dat', comment.char = '#' ), ncol = 2, byrow = TRUE, \n",
    "               dimnames = list( NULL, c( 'Cholesterol', 'Triglycerides' ) ) )\n",
    "# NHD - No Heart Diesease & NOA - Narrowing of Arteries\n",
    "NHD = data[1:51,]\n",
    "NOA = data[52:371,]\n",
    "\n",
    "# Cholestrol data sets for NHD - No Heart Diesease & NOA - Narrowing of Arteries\n",
    "X = NHD[,1]\n",
    "Y = NOA[,1]\n",
    "\n",
    "n = length(X)\n",
    "m = length(Y)"
   ]
  },
  {
   "cell_type": "markdown",
   "metadata": {},
   "source": [
    "## Is there relation between Cholestrol value and Heart Diesease ?"
   ]
  },
  {
   "cell_type": "markdown",
   "metadata": {},
   "source": [
    "### Is the mean for two distributions different ?"
   ]
  },
  {
   "cell_type": "markdown",
   "metadata": {},
   "source": [
    "$X_1,...,X_n \\sim f_X$  \n",
    "$Y_1,...,Y_m \\sim f_Y$  \n",
    "If $\\theta$ is differance between mean for two distributions $f_X$ & $f_Y$     \n",
    "$\\theta = \\mu_y - \\mu_x$  \n",
    "where $\\mu_y$, $\\mu_x$ are the true means of X and Y.  \n",
    "As the true values of $\\mu_y$ & $\\mu_x$ are not known and so is value of $\\theta$, we will build estimators for them.  \n",
    "The plug in estimator for $\\theta$,  \n",
    "$\\hat{\\theta} = \\hat{\\mu_y} - \\hat{\\mu_x}$  \n",
    "$\\hat{\\theta} = \\bar{Y} - \\bar{X}$  \n",
    "where, \n",
    "$\\bar{X} = \\frac{\\sum_{i=1}^{n} {X_i}} {n}$ & $\\bar{Y} = \\frac{\\sum_{i=1}^{m} {Y_i}} {m}$ are sample averages which are estimators for $\\mu_y$ & $\\mu_x$.  \n",
    "Now, to check for bias of estimator,  \n",
    "$E(\\hat{\\theta}) = E(\\bar{Y}) - E(\\bar{X})$  \n",
    "  \n",
    "$E(\\hat{\\theta}) = E(\\frac{\\sum_{i=1}^{m} {Y_i}} {m}) - E(\\frac{\\sum_{i=1}^{n} {X_i}} {n})$ \n",
    "\n",
    "\n",
    "  \n",
    "$E(\\hat{\\theta}) = \\frac{\\sum_{i=1}^{m} {E(Y_i)}} {m} - \\frac{\\sum_{i=1}^{n} {E(X_i)}} {n}$  \n",
    "  \n",
    "$E(\\hat{\\theta}) =  \\mu_y - \\mu_x = \\theta$  \n",
    "Which Implies $\\hat{\\theta}$ is Unbiased Estimator."
   ]
  },
  {
   "cell_type": "code",
   "execution_count": 37,
   "metadata": {},
   "outputs": [
    {
     "name": "stdout",
     "output_type": "stream",
     "text": [
      "[1] \"theta_hat =  20.92\"\n"
     ]
    }
   ],
   "source": [
    "# Sample mean as estimator for True mean\n",
    "X_bar = mean(X)\n",
    "Y_bar = mean(Y)\n",
    "theta_hat = Y_bar - X_bar\n",
    "print(paste(\"theta_hat = \", round(theta_hat,2)))"
   ]
  },
  {
   "cell_type": "markdown",
   "metadata": {},
   "source": [
    "#### Inferance \n",
    "Positive value of theta_hat is indicator of two means being different and mean of Y is more than that of X.  \n",
    "Next question would be, is this the **property of underlying distribution** or just an **artefact of current dataset**. for that we resort to concept of Confidence Interval. \n"
   ]
  },
  {
   "cell_type": "markdown",
   "metadata": {},
   "source": [
    "#### Confidence Interval by Asymptotic Normality"
   ]
  },
  {
   "cell_type": "markdown",
   "metadata": {},
   "source": [
    "##### Assumption :  $\\hat{\\theta} \\sim N( mean_{\\hat{\\theta}} , var_{\\hat{\\theta}})$  \n",
    "$mean({\\hat{\\theta}}) = E(\\hat{\\theta}) = \\theta$  \n",
    "$var(\\hat{\\theta}) = var(\\bar{Y} - \\bar{X})$  \n",
    "##### Assumption :  $\\bar{X}$   and $\\bar{Y}$ are Independant   \n",
    "$var(\\hat{\\theta}) = var(\\bar{Y}) + var(\\bar{X})$  \n",
    "  \n",
    "##### Assumption : $X_1,...,X_n$ have IIDs  & $Y_1,...,Y_m$ have IIDs   \n",
    "\n",
    "Now, variance for **sample average** is given by  \n",
    "  \n",
    "$var(\\bar{X}) = \\frac{\\sigma^2_X}{n}$ & $var(\\bar{Y}) = \\frac{\\sigma^2_Y}{m}$  \n",
    "  \n",
    "where, $\\sigma_X$ and $\\sigma_Y$ are variance of $f_X$ and $f_Y$, estimators for which are given by,   \n",
    "  \n",
    "$\\hat{\\sigma^2}_X = \\frac{1}{(n-1)} \\sum_{i=1}^{n}{(X_i - \\bar{X}_n)^2}$ & \n",
    "$\\hat{\\sigma^2}_Y = \\frac{1}{(m-1)} \\sum_{i=1}^{m}{(Y_i - \\bar{Y}_m)^2}$  \n",
    "  \n",
    "   \n",
    "$\\hat{se} = \\sqrt{var(\\hat{\\theta})} = \\sqrt{\\frac{\\sigma^2_X}{n} + \\frac{\\sigma^2_Y}{m}}$  \n",
    "##### We have :  $\\hat{\\theta} \\sim N( mean_{\\hat{\\theta}} , var_{\\hat{\\theta}}) \n",
    "= N(\\theta, \\hat{se}^2)$  \n",
    "For coverage of $1 - \\alpha$ the confidence interval Cn is given by,  \n",
    "$Cn = (\\hat{\\theta} - z_{\\alpha/2}\\hat{se}, \\hat{\\theta} + z_{\\alpha/2}\\hat{se})$  \n",
    "where, $z_{\\alpha/2} = \\phi^{-1}(1 - (\\alpha/2))$  \n",
    "$\\phi$ is CDF of Standard Normal and $\\phi^{-1}$ is Quantile Function  "
   ]
  },
  {
   "cell_type": "code",
   "execution_count": 38,
   "metadata": {},
   "outputs": [],
   "source": [
    "# Sample Varience\n",
    "SigmaSqBar_X = var(X)\n",
    "SigmaSqBar_Y = var(Y)"
   ]
  },
  {
   "cell_type": "code",
   "execution_count": 39,
   "metadata": {},
   "outputs": [],
   "source": [
    "# Varience of sample mean / Varience of estimator for mean\n",
    "Var_X_Bar = SigmaSqBar_X/n\n",
    "Var_Y_Bar = SigmaSqBar_Y/m"
   ]
  },
  {
   "cell_type": "code",
   "execution_count": 40,
   "metadata": {},
   "outputs": [],
   "source": [
    "# Varience of estimator theta_hat\n",
    "Var_theta_hat = Var_X_Bar + Var_Y_Bar"
   ]
  },
  {
   "cell_type": "code",
   "execution_count": 41,
   "metadata": {},
   "outputs": [
    {
     "name": "stdout",
     "output_type": "stream",
     "text": [
      "[1] \"Se_hat =  5.6\"\n"
     ]
    }
   ],
   "source": [
    "# Se_hat\n",
    "Se_hat = sqrt(Var_theta_hat)\n",
    "print(paste(\"Se_hat = \", round(Se_hat,2)))"
   ]
  },
  {
   "cell_type": "code",
   "execution_count": 42,
   "metadata": {},
   "outputs": [
    {
     "data": {
      "text/html": [
       "<ol class=list-inline>\n",
       "\t<li>9.94221613235768</li>\n",
       "\t<li>31.8900142597992</li>\n",
       "</ol>\n"
      ],
      "text/latex": [
       "\\begin{enumerate*}\n",
       "\\item 9.94221613235768\n",
       "\\item 31.8900142597992\n",
       "\\end{enumerate*}\n"
      ],
      "text/markdown": [
       "1. 9.94221613235768\n",
       "2. 31.8900142597992\n",
       "\n",
       "\n"
      ],
      "text/plain": [
       "[1]  9.942216 31.890014"
      ]
     },
     "metadata": {},
     "output_type": "display_data"
    }
   ],
   "source": [
    "# Confidence Interval for 95%\n",
    "alpha = 0.05\n",
    "theta_hat + c(-1, 1) * Se_hat * qnorm(1-alpha/2)"
   ]
  },
  {
   "cell_type": "markdown",
   "metadata": {},
   "source": [
    "#### Inferance \n",
    "Above confidence interval indicates that at least with 95% probability true value of $\\theta$ is greater than 0."
   ]
  },
  {
   "cell_type": "markdown",
   "metadata": {},
   "source": [
    "#### Estimator( )\n",
    "Writing a function to do all the steps above,\n",
    "**Estimator( )** takes X and Y as input and returns estimate for $\\theta$ i.e. $\\hat{\\theta}$ and confidence interval for the same."
   ]
  },
  {
   "cell_type": "code",
   "execution_count": 43,
   "metadata": {},
   "outputs": [],
   "source": [
    "Estimator <- function(X, Y){\n",
    "    # Number of data points \n",
    "    n = length(X)\n",
    "    m = length(Y)\n",
    "    \n",
    "    # Estimator for theta_hat\n",
    "    X_bar = mean(X)\n",
    "    Y_bar = mean(Y)\n",
    "    theta_hat = Y_bar - X_bar\n",
    "    \n",
    "    # Sample Varience\n",
    "    SigmaSqBar_X = var(X)\n",
    "    SigmaSqBar_Y = var(Y)\n",
    "    \n",
    "    # Varience of sample mean / Varience of estimator for mean\n",
    "    Var_X_Bar = SigmaSqBar_X/n\n",
    "    Var_Y_Bar = SigmaSqBar_Y/m\n",
    "    \n",
    "    # Varience of estimator theta_hat\n",
    "    Var_theta_hat = Var_X_Bar + Var_Y_Bar\n",
    "    \n",
    "    # Se_hat\n",
    "    Se_hat = sqrt(Var_theta_hat)\n",
    "    \n",
    "    # Confidence Interval for 95%\n",
    "    alpha = 0.05\n",
    "    Cn = theta_hat + c(1, -1)*Se_hat*qnorm(1-alpha/2)\n",
    "    \n",
    "    return(c(theta_hat, Cn))\n",
    "}"
   ]
  },
  {
   "cell_type": "markdown",
   "metadata": {},
   "source": [
    "#### Checking for Asymptotic Normality"
   ]
  },
  {
   "cell_type": "markdown",
   "metadata": {},
   "source": [
    "To check the distribution of random variable $\\hat{\\theta}$ we will need to get more samples from $f_X$ and $f_Y$, but these distributions are unknown.  \n",
    "Our best estimation for these distributions would be from the **empirical distribution function**. It puts mass 1/n at each data point i.e. discrete uniform distribution with probability of 1/n at each data point and zero otherwise.  \n",
    "We will use **sample** function in R to generate random numbers from this empirical distribution\n"
   ]
  },
  {
   "cell_type": "code",
   "execution_count": 44,
   "metadata": {},
   "outputs": [],
   "source": [
    "Theta_ConfInt = replicate(100000, Estimator(sample(X, length(X), TRUE), \n",
    "                                            sample(Y, length(Y), TRUE)))"
   ]
  },
  {
   "cell_type": "code",
   "execution_count": 48,
   "metadata": {},
   "outputs": [
    {
     "data": {
      "image/png": "[encoded data removed]",
      "text/plain": [
       "Plot with title “Histogram for theta_hat”"
      ]
     },
     "metadata": {},
     "output_type": "display_data"
    }
   ],
   "source": [
    "# Ploting histogram for estimator theta_hat\n",
    "hist(Theta_ConfInt[1,], freq = FALSE, main = 'Histogram for theta_hat',\n",
    "    xlab = 'theta', breaks = 40)"
   ]
  },
  {
   "cell_type": "code",
   "execution_count": 46,
   "metadata": {},
   "outputs": [
    {
     "data": {
      "image/png": "[encoded data removed]",
      "text/plain": [
       "Plot with title “Histogram for Confidence Interval limits”"
      ]
     },
     "metadata": {},
     "output_type": "display_data"
    }
   ],
   "source": [
    "# Ploting histogram for Confidence Interval limits\n",
    "hist(c(Theta_ConfInt[2,], Theta_ConfInt[3,]), freq = FALSE, \n",
    "     main = 'Histogram for Confidence Interval limits', xlab = '', breaks = 40)"
   ]
  }
 ],
 "metadata": {
  "kernelspec": {
   "display_name": "R",
   "language": "R",
   "name": "ir"
  },
  "language_info": {
   "codemirror_mode": "r",
   "file_extension": ".r",
   "mimetype": "text/x-r-source",
   "name": "R",
   "pygments_lexer": "r",
   "version": "3.6.1"
  }
 },
 "nbformat": 4,
 "nbformat_minor": 2
}
